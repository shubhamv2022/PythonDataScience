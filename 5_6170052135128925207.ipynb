{
 "cells": [
  {
   "cell_type": "code",
   "execution_count": null,
   "id": "e5c5a8fc",
   "metadata": {},
   "outputs": [],
   "source": [
    "1.Local \n",
    "2.Global"
   ]
  },
  {
   "cell_type": "code",
   "execution_count": 10,
   "id": "512a057a",
   "metadata": {},
   "outputs": [],
   "source": [
    "a=500 #global variable\n",
    "def test():\n",
    "    print(a)\n",
    "def test1():\n",
    "    a='python'\n",
    "    print(a)"
   ]
  },
  {
   "cell_type": "code",
   "execution_count": 12,
   "id": "e4b5600a",
   "metadata": {},
   "outputs": [
    {
     "name": "stdout",
     "output_type": "stream",
     "text": [
      "500\n"
     ]
    }
   ],
   "source": [
    "test()"
   ]
  },
  {
   "cell_type": "code",
   "execution_count": 14,
   "id": "cdaf3804",
   "metadata": {},
   "outputs": [
    {
     "name": "stdout",
     "output_type": "stream",
     "text": [
      "python\n"
     ]
    }
   ],
   "source": [
    "test1()"
   ]
  },
  {
   "cell_type": "code",
   "execution_count": 15,
   "id": "bf64241e",
   "metadata": {},
   "outputs": [
    {
     "data": {
      "text/plain": [
       "500"
      ]
     },
     "execution_count": 15,
     "metadata": {},
     "output_type": "execute_result"
    }
   ],
   "source": [
    "a"
   ]
  },
  {
   "cell_type": "code",
   "execution_count": null,
   "id": "d099b8d8",
   "metadata": {},
   "outputs": [],
   "source": [
    "#interview \n",
    "\n",
    "what is use of global keyword?"
   ]
  },
  {
   "cell_type": "code",
   "execution_count": 30,
   "id": "489f1e0a",
   "metadata": {},
   "outputs": [],
   "source": [
    "a = 500\n",
    "def test():\n",
    "    global a\n",
    "    a='java'\n",
    "    print(a)\n",
    "def test1():\n",
    "    global a \n",
    "    a='Hadoop'\n",
    "\n",
    "def test2():\n",
    " \n",
    "    print(a)"
   ]
  },
  {
   "cell_type": "code",
   "execution_count": 18,
   "id": "d33b6f86",
   "metadata": {},
   "outputs": [],
   "source": [
    "#function user global variable value change"
   ]
  },
  {
   "cell_type": "code",
   "execution_count": 25,
   "id": "61ee12f1",
   "metadata": {},
   "outputs": [
    {
     "name": "stdout",
     "output_type": "stream",
     "text": [
      "500\n"
     ]
    }
   ],
   "source": [
    "test1()"
   ]
  },
  {
   "cell_type": "code",
   "execution_count": 28,
   "id": "83b4cac2",
   "metadata": {},
   "outputs": [
    {
     "name": "stdout",
     "output_type": "stream",
     "text": [
      "java\n"
     ]
    }
   ],
   "source": [
    "test()"
   ]
  },
  {
   "cell_type": "code",
   "execution_count": 29,
   "id": "001c88ea",
   "metadata": {},
   "outputs": [
    {
     "name": "stdout",
     "output_type": "stream",
     "text": [
      "java\n"
     ]
    }
   ],
   "source": [
    "test1()"
   ]
  },
  {
   "cell_type": "code",
   "execution_count": 31,
   "id": "1ba4a708",
   "metadata": {},
   "outputs": [
    {
     "name": "stdout",
     "output_type": "stream",
     "text": [
      "500\n"
     ]
    }
   ],
   "source": [
    "test2()"
   ]
  },
  {
   "cell_type": "code",
   "execution_count": 32,
   "id": "a4fb8b96",
   "metadata": {},
   "outputs": [
    {
     "name": "stdout",
     "output_type": "stream",
     "text": [
      "java\n"
     ]
    }
   ],
   "source": [
    "test()"
   ]
  },
  {
   "cell_type": "code",
   "execution_count": 33,
   "id": "1e4129e8",
   "metadata": {},
   "outputs": [],
   "source": [
    "test1()"
   ]
  },
  {
   "cell_type": "code",
   "execution_count": null,
   "id": "664b0f58",
   "metadata": {},
   "outputs": [],
   "source": []
  },
  {
   "cell_type": "code",
   "execution_count": 26,
   "id": "5a9ed95b",
   "metadata": {},
   "outputs": [],
   "source": [
    "def a():\n",
    "    print('a')\n",
    "def b():\n",
    "    print('b')\n",
    "def c():\n",
    "    print('c')"
   ]
  },
  {
   "cell_type": "code",
   "execution_count": 27,
   "id": "36231c55",
   "metadata": {},
   "outputs": [
    {
     "name": "stdout",
     "output_type": "stream",
     "text": [
      "c\n"
     ]
    }
   ],
   "source": [
    "c()"
   ]
  },
  {
   "cell_type": "code",
   "execution_count": 34,
   "id": "a9433c16",
   "metadata": {},
   "outputs": [
    {
     "data": {
      "text/plain": [
       "'Hadoop'"
      ]
     },
     "execution_count": 34,
     "metadata": {},
     "output_type": "execute_result"
    }
   ],
   "source": [
    "a"
   ]
  },
  {
   "cell_type": "code",
   "execution_count": 41,
   "id": "efa540a2",
   "metadata": {},
   "outputs": [],
   "source": [
    "a = 100\n",
    "def show():\n",
    "    a=500\n",
    "    print(a)\n",
    "    print(globals()['a'])"
   ]
  },
  {
   "cell_type": "code",
   "execution_count": 42,
   "id": "e47090c8",
   "metadata": {},
   "outputs": [
    {
     "name": "stdout",
     "output_type": "stream",
     "text": [
      "500\n",
      "100\n"
     ]
    }
   ],
   "source": [
    "show()"
   ]
  },
  {
   "cell_type": "code",
   "execution_count": null,
   "id": "b1d621c7",
   "metadata": {},
   "outputs": [],
   "source": []
  },
  {
   "cell_type": "code",
   "execution_count": null,
   "id": "3a39a5a0",
   "metadata": {},
   "outputs": [],
   "source": []
  },
  {
   "cell_type": "code",
   "execution_count": 52,
   "id": "44374324",
   "metadata": {},
   "outputs": [],
   "source": [
    "a=100\n",
    "def m1():\n",
    "    a=500\n",
    "    \n",
    "    def m2():\n",
    "        a=700\n",
    "        print(a)\n",
    "        print(globals()['a'])\n",
    "    m2()"
   ]
  },
  {
   "cell_type": "code",
   "execution_count": 53,
   "id": "b788da22",
   "metadata": {},
   "outputs": [
    {
     "name": "stdout",
     "output_type": "stream",
     "text": [
      "700\n",
      "100\n"
     ]
    }
   ],
   "source": [
    "m1()"
   ]
  },
  {
   "cell_type": "code",
   "execution_count": null,
   "id": "605a168c",
   "metadata": {},
   "outputs": [],
   "source": [
    "first priority --> local check\n",
    "then go for global"
   ]
  },
  {
   "cell_type": "code",
   "execution_count": 54,
   "id": "909dffe8",
   "metadata": {},
   "outputs": [],
   "source": [
    "a=100\n",
    "def m1():\n",
    "    a=500\n",
    "    \n",
    "    def m2():\n",
    "        a=700\n",
    "        print(a)\n",
    "        print(globals()['a']) # global section\n",
    "     m2()"
   ]
  },
  {
   "cell_type": "code",
   "execution_count": 58,
   "id": "3b8064aa",
   "metadata": {},
   "outputs": [
    {
     "name": "stdout",
     "output_type": "stream",
     "text": [
      "700\n",
      "100\n"
     ]
    }
   ],
   "source": [
    "m1()"
   ]
  },
  {
   "cell_type": "code",
   "execution_count": null,
   "id": "3402c973",
   "metadata": {},
   "outputs": [],
   "source": []
  },
  {
   "cell_type": "code",
   "execution_count": null,
   "id": "488c4e7f",
   "metadata": {},
   "outputs": [],
   "source": []
  },
  {
   "cell_type": "code",
   "execution_count": 56,
   "id": "fc9ea8ea",
   "metadata": {},
   "outputs": [],
   "source": [
    "a1=100\n",
    "def m1():\n",
    "    a=500\n",
    "    \n",
    "    def m2():\n",
    "        a=700\n",
    "        print(a)\n",
    "        print(a1) \n",
    "    m2()"
   ]
  },
  {
   "cell_type": "code",
   "execution_count": 57,
   "id": "2007c81e",
   "metadata": {},
   "outputs": [
    {
     "name": "stdout",
     "output_type": "stream",
     "text": [
      "700\n",
      "100\n"
     ]
    }
   ],
   "source": [
    "m1()"
   ]
  },
  {
   "cell_type": "code",
   "execution_count": 66,
   "id": "1f3b9fa4",
   "metadata": {},
   "outputs": [],
   "source": [
    "x=10\n",
    "def m1():\n",
    "    y=20\n",
    "    def m2():\n",
    "        z=30\n",
    "        def m3():\n",
    "            p =500\n",
    "            print(p)\n",
    "            print(x)\n",
    "           \n",
    "        m3()\n",
    "    m2()\n",
    "    "
   ]
  },
  {
   "cell_type": "code",
   "execution_count": 67,
   "id": "85fa93b2",
   "metadata": {},
   "outputs": [],
   "source": [
    "o = m1"
   ]
  },
  {
   "cell_type": "code",
   "execution_count": 68,
   "id": "83bc628c",
   "metadata": {},
   "outputs": [
    {
     "name": "stdout",
     "output_type": "stream",
     "text": [
      "500\n",
      "10\n"
     ]
    }
   ],
   "source": [
    "o()"
   ]
  },
  {
   "cell_type": "code",
   "execution_count": 69,
   "id": "a8b5a0cc",
   "metadata": {},
   "outputs": [
    {
     "name": "stdout",
     "output_type": "stream",
     "text": [
      "500\n",
      "10\n"
     ]
    }
   ],
   "source": [
    "m1()"
   ]
  },
  {
   "cell_type": "code",
   "execution_count": null,
   "id": "814fd649",
   "metadata": {},
   "outputs": [],
   "source": []
  },
  {
   "cell_type": "code",
   "execution_count": null,
   "id": "999f03c5",
   "metadata": {},
   "outputs": [],
   "source": []
  },
  {
   "cell_type": "code",
   "execution_count": null,
   "id": "1e5c948b",
   "metadata": {},
   "outputs": [],
   "source": []
  },
  {
   "cell_type": "code",
   "execution_count": null,
   "id": "1ee95a9e",
   "metadata": {},
   "outputs": [],
   "source": []
  },
  {
   "cell_type": "code",
   "execution_count": null,
   "id": "3bb91e3d",
   "metadata": {},
   "outputs": [],
   "source": []
  }
 ],
 "metadata": {
  "kernelspec": {
   "display_name": "Python 3 (ipykernel)",
   "language": "python",
   "name": "python3"
  },
  "language_info": {
   "codemirror_mode": {
    "name": "ipython",
    "version": 3
   },
   "file_extension": ".py",
   "mimetype": "text/x-python",
   "name": "python",
   "nbconvert_exporter": "python",
   "pygments_lexer": "ipython3",
   "version": "3.9.7"
  }
 },
 "nbformat": 4,
 "nbformat_minor": 5
}
